{
  "nbformat": 4,
  "nbformat_minor": 0,
  "metadata": {
    "colab": {
      "provenance": [],
      "authorship_tag": "ABX9TyMcxglGdXIRcVMsN1mjqATb",
      "include_colab_link": true
    },
    "kernelspec": {
      "name": "python3",
      "display_name": "Python 3"
    },
    "language_info": {
      "name": "python"
    }
  },
  "cells": [
    {
      "cell_type": "markdown",
      "metadata": {
        "id": "view-in-github",
        "colab_type": "text"
      },
      "source": [
        "<a href=\"https://colab.research.google.com/github/1uch0/LLM_training/blob/main/LLM_text_sum_scarp_from_website.ipynb\" target=\"_parent\"><img src=\"https://colab.research.google.com/assets/colab-badge.svg\" alt=\"Open In Colab\"/></a>"
      ]
    },
    {
      "cell_type": "code",
      "execution_count": 1,
      "metadata": {
        "colab": {
          "base_uri": "https://localhost:8080/"
        },
        "id": "50PKnDsgWSKf",
        "outputId": "4873ea7a-2ac5-4dcf-a6b7-34cf153465ae"
      },
      "outputs": [
        {
          "output_type": "stream",
          "name": "stdout",
          "text": [
            "Requirement already satisfied: openai in /usr/local/lib/python3.11/dist-packages (1.61.1)\n",
            "Requirement already satisfied: anyio<5,>=3.5.0 in /usr/local/lib/python3.11/dist-packages (from openai) (3.7.1)\n",
            "Requirement already satisfied: distro<2,>=1.7.0 in /usr/local/lib/python3.11/dist-packages (from openai) (1.9.0)\n",
            "Requirement already satisfied: httpx<1,>=0.23.0 in /usr/local/lib/python3.11/dist-packages (from openai) (0.28.1)\n",
            "Requirement already satisfied: jiter<1,>=0.4.0 in /usr/local/lib/python3.11/dist-packages (from openai) (0.8.2)\n",
            "Requirement already satisfied: pydantic<3,>=1.9.0 in /usr/local/lib/python3.11/dist-packages (from openai) (2.10.6)\n",
            "Requirement already satisfied: sniffio in /usr/local/lib/python3.11/dist-packages (from openai) (1.3.1)\n",
            "Requirement already satisfied: tqdm>4 in /usr/local/lib/python3.11/dist-packages (from openai) (4.67.1)\n",
            "Requirement already satisfied: typing-extensions<5,>=4.11 in /usr/local/lib/python3.11/dist-packages (from openai) (4.12.2)\n",
            "Requirement already satisfied: idna>=2.8 in /usr/local/lib/python3.11/dist-packages (from anyio<5,>=3.5.0->openai) (3.10)\n",
            "Requirement already satisfied: certifi in /usr/local/lib/python3.11/dist-packages (from httpx<1,>=0.23.0->openai) (2025.1.31)\n",
            "Requirement already satisfied: httpcore==1.* in /usr/local/lib/python3.11/dist-packages (from httpx<1,>=0.23.0->openai) (1.0.7)\n",
            "Requirement already satisfied: h11<0.15,>=0.13 in /usr/local/lib/python3.11/dist-packages (from httpcore==1.*->httpx<1,>=0.23.0->openai) (0.14.0)\n",
            "Requirement already satisfied: annotated-types>=0.6.0 in /usr/local/lib/python3.11/dist-packages (from pydantic<3,>=1.9.0->openai) (0.7.0)\n",
            "Requirement already satisfied: pydantic-core==2.27.2 in /usr/local/lib/python3.11/dist-packages (from pydantic<3,>=1.9.0->openai) (2.27.2)\n"
          ]
        }
      ],
      "source": [
        "!pip install openai"
      ]
    },
    {
      "cell_type": "code",
      "source": [
        "# imports\n",
        "\n",
        "import os\n",
        "import requests\n",
        "from bs4 import BeautifulSoup\n",
        "from IPython.display import Markdown, display\n",
        "from openai import OpenAI\n",
        "from google.colab import userdata\n",
        "\n",
        "# If you get an error running this cell, then please head over to the troubleshooting notebook!\n",
        "\n",
        "\n"
      ],
      "metadata": {
        "id": "KDt1lJSnWTyS"
      },
      "execution_count": 3,
      "outputs": []
    },
    {
      "cell_type": "code",
      "source": [
        "api_key = userdata.get('Open_AI_API') ##Open_AI_API It is the API key from OPEN_AI saved in your collab"
      ],
      "metadata": {
        "id": "r9nCTkyGWZKD"
      },
      "execution_count": 4,
      "outputs": []
    },
    {
      "cell_type": "code",
      "source": [
        "# Check the key\n",
        "\n",
        "if not api_key:\n",
        "    print(\"No API key was found - please head over to the troubleshooting notebook in this folder to identify & fix!\")\n",
        "elif not api_key.startswith(\"sk-proj-\"):\n",
        "    print(\"An API key was found, but it doesn't start sk-proj-; please check you're using the right key - see troubleshooting notebook\")\n",
        "elif api_key.strip() != api_key:\n",
        "    print(\"An API key was found, but it looks like it might have space or tab characters at the start or end - please remove them - see troubleshooting notebook\")\n",
        "else:\n",
        "    print(\"API key found and looks good so far!\")"
      ],
      "metadata": {
        "colab": {
          "base_uri": "https://localhost:8080/"
        },
        "id": "bwAmia2iXPN6",
        "outputId": "2acc6589-2493-47e1-81bd-89c9bdc22cff"
      },
      "execution_count": 5,
      "outputs": [
        {
          "output_type": "stream",
          "name": "stdout",
          "text": [
            "API key found and looks good so far!\n"
          ]
        }
      ]
    },
    {
      "cell_type": "code",
      "source": [
        "openai = OpenAI(api_key=api_key)"
      ],
      "metadata": {
        "id": "pTaOF2d7Xh50"
      },
      "execution_count": 6,
      "outputs": []
    },
    {
      "cell_type": "code",
      "source": [
        "# To give you a preview -- calling OpenAI with these messages is this easy. Any problems, head over to the Troubleshooting notebook.\n",
        "\n",
        "message = \"Hello, GPT! This is my first ever message to you! Hi!\"\n",
        "response = openai.chat.completions.create(model=\"gpt-4o-mini\", messages=[{\"role\":\"user\", \"content\":message}])\n",
        "print(response.choices[0].message.content)"
      ],
      "metadata": {
        "colab": {
          "base_uri": "https://localhost:8080/"
        },
        "id": "85hw3XnGXkIm",
        "outputId": "b26417c7-ab4b-4a64-f8c2-ac6994ddcd3c"
      },
      "execution_count": 7,
      "outputs": [
        {
          "output_type": "stream",
          "name": "stdout",
          "text": [
            "Hello! Welcome! I'm glad to hear from you. How can I assist you today?\n"
          ]
        }
      ]
    },
    {
      "cell_type": "code",
      "source": [
        "# A class to represent a Webpage\n",
        "# If you're not familiar with Classes, check out the \"Intermediate Python\" notebook\n",
        "\n",
        "# Some websites need you to use proper headers when fetching them:\n",
        "headers = {\n",
        " \"User-Agent\": \"Mozilla/5.0 (Windows NT 10.0; Win64; x64) AppleWebKit/537.36 (KHTML, like Gecko) Chrome/117.0.0.0 Safari/537.36\"\n",
        "}\n",
        "\n",
        "class Website:\n",
        "\n",
        "    def __init__(self, url):\n",
        "        \"\"\"\n",
        "        Create this Website object from the given url using the BeautifulSoup library\n",
        "        \"\"\"\n",
        "        self.url = url\n",
        "        response = requests.get(url, headers=headers)\n",
        "        soup = BeautifulSoup(response.content, 'html.parser')\n",
        "        self.title = soup.title.string if soup.title else \"No title found\"\n",
        "        for irrelevant in soup.body([\"script\", \"style\", \"img\", \"input\"]):\n",
        "            irrelevant.decompose()\n",
        "        self.text = soup.body.get_text(separator=\"\\n\", strip=True)"
      ],
      "metadata": {
        "id": "OJxR5NGzX8Pv"
      },
      "execution_count": 8,
      "outputs": []
    },
    {
      "cell_type": "code",
      "source": [
        "# Let's try one out. Change the website and add print statements to follow along.\n",
        "\n",
        "ed = Website(\"https://edwarddonner.com\")\n",
        "print(ed.title)\n",
        "print(ed.text)"
      ],
      "metadata": {
        "colab": {
          "base_uri": "https://localhost:8080/"
        },
        "id": "8MaCzBGHfUVv",
        "outputId": "895a2f33-5836-4b6d-c0fd-0e47485d63a1"
      },
      "execution_count": 9,
      "outputs": [
        {
          "output_type": "stream",
          "name": "stdout",
          "text": [
            "Home - Edward Donner\n",
            "Home\n",
            "Connect Four\n",
            "Outsmart\n",
            "An arena that pits LLMs against each other in a battle of diplomacy and deviousness\n",
            "About\n",
            "Posts\n",
            "Well, hi there.\n",
            "I’m Ed. I like writing code and experimenting with LLMs, and hopefully you’re here because you do too. I also enjoy DJing (but I’m badly out of practice), amateur electronic music production (\n",
            "very\n",
            "amateur) and losing myself in\n",
            "Hacker News\n",
            ", nodding my head sagely to things I only half understand.\n",
            "I’m the co-founder and CTO of\n",
            "Nebula.io\n",
            ". We’re applying AI to a field where it can make a massive, positive impact: helping people discover their potential and pursue their reason for being. Recruiters use our product today to source, understand, engage and manage talent. I’m previously the founder and CEO of AI startup untapt,\n",
            "acquired in 2021\n",
            ".\n",
            "We work with groundbreaking, proprietary LLMs verticalized for talent, we’ve\n",
            "patented\n",
            "our matching model, and our award-winning platform has happy customers and tons of press coverage.\n",
            "Connect\n",
            "with me for more!\n",
            "January 23, 2025\n",
            "LLM Workshop – Hands-on with Agents – resources\n",
            "December 21, 2024\n",
            "Welcome, SuperDataScientists!\n",
            "November 13, 2024\n",
            "Mastering AI and LLM Engineering – Resources\n",
            "October 16, 2024\n",
            "From Software Engineer to AI Data Scientist – resources\n",
            "Navigation\n",
            "Home\n",
            "Connect Four\n",
            "Outsmart\n",
            "An arena that pits LLMs against each other in a battle of diplomacy and deviousness\n",
            "About\n",
            "Posts\n",
            "Get in touch\n",
            "ed [at] edwarddonner [dot] com\n",
            "www.edwarddonner.com\n",
            "Follow me\n",
            "LinkedIn\n",
            "Twitter\n",
            "Facebook\n",
            "Subscribe to newsletter\n",
            "Type your email…\n",
            "Subscribe\n"
          ]
        }
      ]
    },
    {
      "cell_type": "code",
      "source": [
        "## Types of prompts\n",
        "\n",
        "#You may know this already - but if not, you will get very familiar with it!\n",
        "\n",
        "#Models like GPT4o have been trained to receive instructions in a particular way.\n",
        "\n",
        "#They expect to receive:\n",
        "\n",
        "#**A system prompt** that tells them what task they are performing and what tone they should use\n",
        "\n",
        "#**A user prompt** -- the conversation starter that they should reply to\n",
        "\n",
        "#They expect to receive:\n",
        "\n",
        "#**A system prompt** that tells them what task they are performing and what tone they should use\n",
        "\n",
        "#**A user prompt** -- the conversation starter that they should reply to"
      ],
      "metadata": {
        "id": "6iT5HCUaf8T6"
      },
      "execution_count": 10,
      "outputs": []
    },
    {
      "cell_type": "code",
      "source": [
        "# Define our system prompt - you can experiment with this later, changing the last sentence to 'Respond in markdown in Spanish.\"\n",
        "\n",
        "system_prompt = \"You are an assistant that analyzes the contents of a website \\\n",
        "and provides a short summary, ignoring text that might be navigation related. \\\n",
        "Respond in markdown.\""
      ],
      "metadata": {
        "id": "sipDQM3ug3Ia"
      },
      "execution_count": 11,
      "outputs": []
    },
    {
      "cell_type": "code",
      "source": [
        "# A function that writes a User Prompt that asks for summaries of websites:\n",
        "\n",
        "def user_prompt_for(website):\n",
        "    user_prompt = f\"You are looking at a website titled {website.title}\"\n",
        "    user_prompt += \"\\nThe contents of this website is as follows; \\\n",
        "please provide a short summary of this website in markdown. \\\n",
        "If it includes news or announcements, then summarize these too.\\n\\n\"\n",
        "    user_prompt += website.text\n",
        "    return user_prompt"
      ],
      "metadata": {
        "id": "6ztCLaiThJ_G"
      },
      "execution_count": 12,
      "outputs": []
    },
    {
      "cell_type": "code",
      "source": [
        "system_prompt"
      ],
      "metadata": {
        "colab": {
          "base_uri": "https://localhost:8080/",
          "height": 36
        },
        "id": "IUVLZhVnhOzy",
        "outputId": "2fa8f62f-db29-4068-a8c9-7133fc067015"
      },
      "execution_count": 13,
      "outputs": [
        {
          "output_type": "execute_result",
          "data": {
            "text/plain": [
              "'You are an assistant that analyzes the contents of a website and provides a short summary, ignoring text that might be navigation related. Respond in markdown.'"
            ],
            "application/vnd.google.colaboratory.intrinsic+json": {
              "type": "string"
            }
          },
          "metadata": {},
          "execution_count": 13
        }
      ]
    },
    {
      "cell_type": "code",
      "source": [
        "print(user_prompt_for(ed))"
      ],
      "metadata": {
        "colab": {
          "base_uri": "https://localhost:8080/"
        },
        "id": "dDvM453WhQrm",
        "outputId": "ab32c5ee-4e41-411d-bc74-14cd2418b36e"
      },
      "execution_count": 14,
      "outputs": [
        {
          "output_type": "stream",
          "name": "stdout",
          "text": [
            "You are looking at a website titled Home - Edward Donner\n",
            "The contents of this website is as follows; please provide a short summary of this website in markdown. If it includes news or announcements, then summarize these too.\n",
            "\n",
            "Home\n",
            "Connect Four\n",
            "Outsmart\n",
            "An arena that pits LLMs against each other in a battle of diplomacy and deviousness\n",
            "About\n",
            "Posts\n",
            "Well, hi there.\n",
            "I’m Ed. I like writing code and experimenting with LLMs, and hopefully you’re here because you do too. I also enjoy DJing (but I’m badly out of practice), amateur electronic music production (\n",
            "very\n",
            "amateur) and losing myself in\n",
            "Hacker News\n",
            ", nodding my head sagely to things I only half understand.\n",
            "I’m the co-founder and CTO of\n",
            "Nebula.io\n",
            ". We’re applying AI to a field where it can make a massive, positive impact: helping people discover their potential and pursue their reason for being. Recruiters use our product today to source, understand, engage and manage talent. I’m previously the founder and CEO of AI startup untapt,\n",
            "acquired in 2021\n",
            ".\n",
            "We work with groundbreaking, proprietary LLMs verticalized for talent, we’ve\n",
            "patented\n",
            "our matching model, and our award-winning platform has happy customers and tons of press coverage.\n",
            "Connect\n",
            "with me for more!\n",
            "January 23, 2025\n",
            "LLM Workshop – Hands-on with Agents – resources\n",
            "December 21, 2024\n",
            "Welcome, SuperDataScientists!\n",
            "November 13, 2024\n",
            "Mastering AI and LLM Engineering – Resources\n",
            "October 16, 2024\n",
            "From Software Engineer to AI Data Scientist – resources\n",
            "Navigation\n",
            "Home\n",
            "Connect Four\n",
            "Outsmart\n",
            "An arena that pits LLMs against each other in a battle of diplomacy and deviousness\n",
            "About\n",
            "Posts\n",
            "Get in touch\n",
            "ed [at] edwarddonner [dot] com\n",
            "www.edwarddonner.com\n",
            "Follow me\n",
            "LinkedIn\n",
            "Twitter\n",
            "Facebook\n",
            "Subscribe to newsletter\n",
            "Type your email…\n",
            "Subscribe\n"
          ]
        }
      ]
    },
    {
      "cell_type": "code",
      "source": [
        "## Messages\n",
        "\n",
        "##The API from OpenAI expects to receive messages in a particular structure.\n",
        "##Many of the other APIs share this structure:\n",
        "\n",
        "##```\n",
        "##[\n",
        "##    {\"role\": \"system\", \"content\": \"system message goes here\"},\n",
        "##    {\"role\": \"user\", \"content\": \"user message goes here\"}\n",
        "##]\n",
        "\n",
        "##To give you a preview, the next 2 cells make a rather simple call - we won't stretch the might GPT (yet!)"
      ],
      "metadata": {
        "id": "90-ce1IahTsj"
      },
      "execution_count": 15,
      "outputs": []
    },
    {
      "cell_type": "code",
      "source": [
        "messages = [\n",
        "    {\"role\": \"system\", \"content\": \"You are a snarky assistant\"},\n",
        "    {\"role\": \"user\", \"content\": \"What is 2 + 2?\"}\n",
        "]"
      ],
      "metadata": {
        "id": "IHZiUadshbSA"
      },
      "execution_count": 16,
      "outputs": []
    },
    {
      "cell_type": "code",
      "source": [
        "# To give you a preview -- calling OpenAI with system and user messages:\n",
        "\n",
        "response = openai.chat.completions.create(model=\"gpt-4o-mini\", messages=messages)\n",
        "print(response.choices[0].message.content)"
      ],
      "metadata": {
        "colab": {
          "base_uri": "https://localhost:8080/"
        },
        "id": "U4Y9HOeuhcuM",
        "outputId": "ea517e2b-bef9-48cc-f406-03a5ae24a45e"
      },
      "execution_count": 17,
      "outputs": [
        {
          "output_type": "stream",
          "name": "stdout",
          "text": [
            "Oh, let me think... I’m going to go out on a limb here and say it’s 4! Shocking, I know.\n"
          ]
        }
      ]
    },
    {
      "cell_type": "code",
      "source": [
        "# See how this function creates exactly the format above\n",
        "\n",
        "def messages_for(website):\n",
        "    return [\n",
        "        {\"role\": \"system\", \"content\": system_prompt},\n",
        "        {\"role\": \"user\", \"content\": user_prompt_for(website)}\n",
        "    ]"
      ],
      "metadata": {
        "id": "Y_6hm91vhfC_"
      },
      "execution_count": 18,
      "outputs": []
    },
    {
      "cell_type": "code",
      "source": [
        "# Try this out, and then try for a few more websites\n",
        "\n",
        "messages_for(ed)"
      ],
      "metadata": {
        "colab": {
          "base_uri": "https://localhost:8080/"
        },
        "id": "NbtXq3DuhjDz",
        "outputId": "895d649c-13b5-4024-f04e-ece8da3f0be3"
      },
      "execution_count": 19,
      "outputs": [
        {
          "output_type": "execute_result",
          "data": {
            "text/plain": [
              "[{'role': 'system',\n",
              "  'content': 'You are an assistant that analyzes the contents of a website and provides a short summary, ignoring text that might be navigation related. Respond in markdown.'},\n",
              " {'role': 'user',\n",
              "  'content': 'You are looking at a website titled Home - Edward Donner\\nThe contents of this website is as follows; please provide a short summary of this website in markdown. If it includes news or announcements, then summarize these too.\\n\\nHome\\nConnect Four\\nOutsmart\\nAn arena that pits LLMs against each other in a battle of diplomacy and deviousness\\nAbout\\nPosts\\nWell, hi there.\\nI’m Ed. I like writing code and experimenting with LLMs, and hopefully you’re here because you do too. I also enjoy DJing (but I’m badly out of practice), amateur electronic music production (\\nvery\\namateur) and losing myself in\\nHacker News\\n, nodding my head sagely to things I only half understand.\\nI’m the co-founder and CTO of\\nNebula.io\\n. We’re applying AI to a field where it can make a massive, positive impact: helping people discover their potential and pursue their reason for being. Recruiters use our product today to source, understand, engage and manage talent. I’m previously the founder and CEO of AI startup untapt,\\nacquired in 2021\\n.\\nWe work with groundbreaking, proprietary LLMs verticalized for talent, we’ve\\npatented\\nour matching model, and our award-winning platform has happy customers and tons of press coverage.\\nConnect\\nwith me for more!\\nJanuary 23, 2025\\nLLM Workshop – Hands-on with Agents – resources\\nDecember 21, 2024\\nWelcome, SuperDataScientists!\\nNovember 13, 2024\\nMastering AI and LLM Engineering – Resources\\nOctober 16, 2024\\nFrom Software Engineer to AI Data Scientist – resources\\nNavigation\\nHome\\nConnect Four\\nOutsmart\\nAn arena that pits LLMs against each other in a battle of diplomacy and deviousness\\nAbout\\nPosts\\nGet in touch\\ned [at] edwarddonner [dot] com\\nwww.edwarddonner.com\\nFollow me\\nLinkedIn\\nTwitter\\nFacebook\\nSubscribe to newsletter\\nType your email…\\nSubscribe'}]"
            ]
          },
          "metadata": {},
          "execution_count": 19
        }
      ]
    },
    {
      "cell_type": "code",
      "source": [
        "# And now: call the OpenAI API. You will get very familiar with this!\n",
        "\n",
        "def summarize(url):\n",
        "    website = Website(url)\n",
        "    response = openai.chat.completions.create(\n",
        "        model = \"gpt-4o-mini\",\n",
        "        messages = messages_for(website)\n",
        "    )\n",
        "    return response.choices[0].message.content"
      ],
      "metadata": {
        "id": "pcLXcdsohml9"
      },
      "execution_count": 20,
      "outputs": []
    },
    {
      "cell_type": "code",
      "source": [
        "summarize(\"https://edwarddonner.com\")"
      ],
      "metadata": {
        "colab": {
          "base_uri": "https://localhost:8080/",
          "height": 88
        },
        "id": "6mrl29ImhqLp",
        "outputId": "6eaca64d-c159-45ed-93d8-86c7744988b7"
      },
      "execution_count": 21,
      "outputs": [
        {
          "output_type": "execute_result",
          "data": {
            "text/plain": [
              "'# Summary of Edward Donner\\'s Website\\n\\nEdward Donner’s website showcases his interests in coding, language models (LLMs), and electronic music. He describes himself as the co-founder and CTO of Nebula.io, a startup using AI to enhance talent discovery and engagement. Previously, he founded untapt, which was acquired in 2021.\\n\\n## Recent News and Announcements\\n- **January 23, 2025**: Launched resources for \"LLM Workshop – Hands-on with Agents\".\\n- **December 21, 2024**: Welcomed a new community, \"SuperDataScientists\".\\n- **November 13, 2024**: Provided resources for \"Mastering AI and LLM Engineering\".\\n- **October 16, 2024**: Shared resources for transitioning from \"Software Engineer to AI Data Scientist\". \\n\\nThe site serves as a connection point for individuals interested in LLMs and offers various resources in the AI field.'"
            ],
            "application/vnd.google.colaboratory.intrinsic+json": {
              "type": "string"
            }
          },
          "metadata": {},
          "execution_count": 21
        }
      ]
    },
    {
      "cell_type": "code",
      "source": [
        "# A function to display this nicely in the Jupyter output, using markdown\n",
        "\n",
        "def display_summary(url):\n",
        "    summary = summarize(url)\n",
        "    display(Markdown(summary))"
      ],
      "metadata": {
        "id": "rAsT3IoAhrgd"
      },
      "execution_count": 22,
      "outputs": []
    },
    {
      "cell_type": "code",
      "source": [
        "display_summary(\"https://edwarddonner.com\")"
      ],
      "metadata": {
        "colab": {
          "base_uri": "https://localhost:8080/",
          "height": 253
        },
        "id": "mWrLTlifhuaF",
        "outputId": "c740559f-07e7-4c6b-9a91-9fe1157d7be6"
      },
      "execution_count": 23,
      "outputs": [
        {
          "output_type": "display_data",
          "data": {
            "text/plain": [
              "<IPython.core.display.Markdown object>"
            ],
            "text/markdown": "# Summary of the Edward Donner Website\n\nThe website for Edward Donner highlights his interests in coding, LLM experimentation, and electronic music. He is the co-founder and CTO of Nebula.io, which focuses on applying AI in the recruitment sector to assist in talent discovery and management. His previous venture, untapt, was an AI startup acquired in 2021. The site invites visitors to connect with him for collaboration and discussions.\n\n## News and Announcements\n- **January 23, 2025**: Resources for a workshop titled \"LLM Workshop – Hands-on with Agents.\"\n- **December 21, 2024**: A welcome message for a community called \"SuperDataScientists.\"\n- **November 13, 2024**: Resources shared for \"Mastering AI and LLM Engineering.\"\n- **October 16, 2024**: Resources for transitioning \"From Software Engineer to AI Data Scientist.\""
          },
          "metadata": {}
        }
      ]
    },
    {
      "cell_type": "code",
      "source": [
        "#LETS TRY MORE WEBSITES:\n",
        "\n",
        "#Note that this will only work on websites that can be scraped using this simplistic approach.\n",
        "\n",
        "#Websites that are rendered with Javascript, like React apps, won't show up. See the community-contributions folder for a Selenium implementation that gets around this. You'll need to read up on installing Selenium (ask ChatGPT!)\n",
        "\n",
        "#Also Websites protected with CloudFront (and similar) may give 403 errors - many thanks Andy J for pointing this out.\n",
        "\n",
        "#But many websites will work just fine!\n"
      ],
      "metadata": {
        "id": "Uh3bdUrGhvZ4"
      },
      "execution_count": 24,
      "outputs": []
    },
    {
      "cell_type": "code",
      "source": [
        "display_summary(\"https://cnn.com\")"
      ],
      "metadata": {
        "colab": {
          "base_uri": "https://localhost:8080/",
          "height": 387
        },
        "id": "69BQp6nbSZh1",
        "outputId": "4c6e9d4e-cd12-4990-cdba-0c9e07f230b1"
      },
      "execution_count": 25,
      "outputs": [
        {
          "output_type": "display_data",
          "data": {
            "text/plain": [
              "<IPython.core.display.Markdown object>"
            ],
            "text/markdown": "# Summary of CNN Website\n\nCNN provides a comprehensive range of news articles, videos, and analysis on a variety of topics including:\n\n- **US News**: Coverage of major events and developments within the United States, including political updates and social issues.\n- **World News**: International stories, highlighting events such as conflicts, elections, and major global incidents.\n- **Politics**: In-depth analysis of political events, elections, and governmental decisions affecting both the US and around the world.\n- **Business and Tech**: Updates on the economy, stock market trends, and innovations in technology, featuring insights from industry leaders.\n- **Health**: Reports on health issues, trends, and advancements in medical sciences.\n- **Entertainment and Culture**: News from the entertainment industry, celebrity updates, and cultural insights.\n- **Sports**: Coverage of various sports events and issues affecting athletes and teams.\n- **Climate and Science**: Articles on climate change, scientific discoveries, and environmental issues impacting the planet.\n\n## Recent Highlights\n\n- **US-Ukraine Relations**: An ongoing meeting to discuss the war in Ukraine, prompted by significant drone attacks on Russian territory.\n- **Internal US Politics**: Democrats are split on an impending vote regarding government funding amid concerns of a potential shutdown.\n- **Missing Students**: Coverage of a US college student currently missing in the Dominican Republic, with ongoing search efforts.\n\nCNN also promotes its diverse array of shows and segments, including breaking news, analysis, and exclusive reports. The site emphasizes user engagement, inviting feedback on ads and site performance."
          },
          "metadata": {}
        }
      ]
    },
    {
      "cell_type": "code",
      "source": [
        "display_summary(\"https://anthropic.com\")"
      ],
      "metadata": {
        "colab": {
          "base_uri": "https://localhost:8080/",
          "height": 407
        },
        "id": "cvmJJhYDStr6",
        "outputId": "3fe7b1c5-3722-41be-8cbe-5661ea7124e3"
      },
      "execution_count": 26,
      "outputs": [
        {
          "output_type": "display_data",
          "data": {
            "text/plain": [
              "<IPython.core.display.Markdown object>"
            ],
            "text/markdown": "# Summary of Anthropic Website\n\nThe Anthropic website showcases its AI research and products, emphasizing safety and reliability in artificial intelligence. The highlight is the introduction of **Claude 3.7 Sonnet**, described as the most intelligent AI model to date and the first hybrid reasoning model. Alongside it, **Claude Code** is launched, which is focused on coding tasks.\n\n### Key Features\n- **Claude 3.7 Sonnet**: The latest AI model featuring advanced reasoning capabilities.\n- **Claude Code**: A tool designed for coding use cases.\n- **API Access**: Developers can create custom AI-powered applications through the Claude API.\n\n### Research Commitments\nThe company is actively involved in AI safety research, with notable announcements such as:\n- **Core Views on AI Safety** - Discussing the principles and practices of ensuring AI technologies are safe for users (March 8, 2023).\n- An earlier initiative titled **Constitutional AI: Harmlessness from AI Feedback** that highlights their approach to making AI safer (December 15, 2022).\n\n### Company Overview\nAnthropic is based in San Francisco and aims to develop beneficial AI systems through a collaborative approach that combines expertise from various fields, including machine learning and policy-making. The site also details job opportunities and invites individuals to join their mission."
          },
          "metadata": {}
        }
      ]
    },
    {
      "cell_type": "code",
      "source": [],
      "metadata": {
        "id": "koR6Lu-_Sw8p"
      },
      "execution_count": null,
      "outputs": []
    }
  ]
}